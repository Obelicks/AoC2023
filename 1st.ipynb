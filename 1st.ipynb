{
 "cells": [
  {
   "cell_type": "code",
   "execution_count": 38,
   "metadata": {},
   "outputs": [
    {
     "name": "stdout",
     "output_type": "stream",
     "text": [
      "['1abc2', 'pqr3stu8vwx', 'a1b2c3d4e5f', 'treb7uchet']\n"
     ]
    }
   ],
   "source": [
    "filename = \"input_1.txt\"\n",
    "with open(filename) as file:\n",
    "    content = [i for i in file.read().strip().split('\\n')]\n",
    "\n",
    "print(content)"
   ]
  },
  {
   "cell_type": "code",
   "execution_count": 39,
   "metadata": {},
   "outputs": [
    {
     "name": "stdout",
     "output_type": "stream",
     "text": [
      "[[1, 2], [3, 8], [1, 2, 3, 4, 5], [7], []]\n"
     ]
    }
   ],
   "source": [
    "numbers = [[]]\n",
    "x=0\n",
    "for line in content:\n",
    "    for char in line:\n",
    "        if char.isnumeric(): numbers[x].append(int(char))\n",
    "    x = x+1\n",
    "    numbers.append([])\n",
    "print(numbers)"
   ]
  },
  {
   "cell_type": "code",
   "execution_count": 40,
   "metadata": {},
   "outputs": [
    {
     "name": "stdout",
     "output_type": "stream",
     "text": [
      "142\n"
     ]
    }
   ],
   "source": [
    "total = 0\n",
    "for nums in numbers:\n",
    "    if len(nums) > 0:\n",
    "        total = total +( nums[0]*10 + nums[-1])\n",
    "print(total)\n"
   ]
  }
 ],
 "metadata": {
  "kernelspec": {
   "display_name": "Python 3",
   "language": "python",
   "name": "python3"
  },
  "language_info": {
   "codemirror_mode": {
    "name": "ipython",
    "version": 3
   },
   "file_extension": ".py",
   "mimetype": "text/x-python",
   "name": "python",
   "nbconvert_exporter": "python",
   "pygments_lexer": "ipython3",
   "version": "3.11.2"
  }
 },
 "nbformat": 4,
 "nbformat_minor": 2
}
